{
 "cells": [
  {
   "cell_type": "code",
   "execution_count": null,
   "metadata": {},
   "outputs": [],
   "source": [
    "import pandas as pd"
   ]
  },
  {
   "cell_type": "code",
   "execution_count": null,
   "metadata": {},
   "outputs": [],
   "source": [
    "import pywikibot as pb\n",
    "site = pb.Site(\"wikidata\", \"wikidata\")\n",
    "repo = site.data_repository()"
   ]
  },
  {
   "cell_type": "code",
   "execution_count": null,
   "metadata": {},
   "outputs": [],
   "source": [
    "!pip install xlrd"
   ]
  },
  {
   "cell_type": "code",
   "execution_count": null,
   "metadata": {},
   "outputs": [],
   "source": [
    "!pip install XlsxWriter"
   ]
  },
  {
   "cell_type": "code",
   "execution_count": null,
   "metadata": {},
   "outputs": [],
   "source": [
    "def create_item(site, label_dict):\n",
    "    new_item = pb.ItemPage(site)\n",
    "    new_item.editLabels(labels=label_dict, summary=\"Creating Red List item\")\n",
    "    return new_item"
   ]
  },
  {
   "cell_type": "code",
   "execution_count": null,
   "metadata": {},
   "outputs": [],
   "source": [
    "def set_claim(item, property, string_data):\n",
    "    clm=new_item.get()['claims'][property][0]\n",
    "    clm_trgt = clm.getTarget()\n",
    "    print(clm_trgt)\n",
    "    if clm_trgt != string_data :\n",
    "        claim = pb.Claim(repo, property)\n",
    "        claim.setTarget(string_data)\n",
    "        item.addClaim(claim, bot=False, summary=\"Test\")\n",
    "        return claim\n",
    "    else :\n",
    "        return None"
   ]
  },
  {
   "cell_type": "code",
   "execution_count": null,
   "metadata": {},
   "outputs": [],
   "source": [
    "red_list_df = pd.read_excel(\"red2.xlsx\")"
   ]
  },
  {
   "cell_type": "code",
   "execution_count": null,
   "metadata": {},
   "outputs": [],
   "source": [
    "red_list_df.head()"
   ]
  },
  {
   "cell_type": "code",
   "execution_count": null,
   "metadata": {},
   "outputs": [],
   "source": [
    "output_df = pd.DataFrame(columns=red_list_df.columns)\n",
    "for index, row in red_list_df.iterrows():\n",
    "    if index > 4:\n",
    "        break\n",
    "    code = row['URL'].split('/')[-2]\n",
    "    print (code)\n",
    "    if pd.isnull(row['Wikidata ID']):\n",
    "        labels = {\"es\": row['Nombre']}\n",
    "        print (labels)\n",
    "        new_item = create_item(site, labels)\n",
    "        new_item_id = new_item.getID()\n",
    "    else :\n",
    "        new_item = pb.ItemPage(repo, row['Wikidata ID'])\n",
    "    new_claim = set_claim(new_item, 'P4868', row['URL'].split('/')[-2])\n",
    "    #row['Wikidata ID'] = new_item_id\n",
    "    #output_df = output_df.append(row, ignore_index=True)"
   ]
  },
  {
   "cell_type": "code",
   "execution_count": null,
   "metadata": {},
   "outputs": [],
   "source": [
    "writer = pd.ExcelWriter('simple.xlsx', engine='xlsxwriter')\n",
    "output_df.to_excel(writer, sheet_name='Sheet1')\n",
    "writer.save()"
   ]
  },
  {
   "cell_type": "code",
   "execution_count": null,
   "metadata": {},
   "outputs": [],
   "source": [
    "new_item = pb.ItemPage(site, 'Q52120504')\n",
    "clm_list=new_item.get()['claims']['P4868']\n",
    "for clm in clm_list:\n",
    "    clm_trgt = clm.getTarget()\n",
    "    print(clm_trgt)"
   ]
  },
  {
   "cell_type": "code",
   "execution_count": null,
   "metadata": {},
   "outputs": [],
   "source": []
  }
 ],
 "metadata": {
  "kernelspec": {
   "display_name": "Python 3",
   "language": "python",
   "name": "python3"
  },
  "language_info": {
   "codemirror_mode": {
    "name": "ipython",
    "version": 3
   },
   "file_extension": ".py",
   "mimetype": "text/x-python",
   "name": "python",
   "nbconvert_exporter": "python",
   "pygments_lexer": "ipython3",
   "version": "3.6.3"
  }
 },
 "nbformat": 4,
 "nbformat_minor": 2
}
