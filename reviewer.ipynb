{
 "cells": [
  {
   "cell_type": "code",
   "execution_count": 2,
   "metadata": {},
   "outputs": [],
   "source": [
    "import pandas as pd"
   ]
  },
  {
   "cell_type": "code",
   "execution_count": 4,
   "metadata": {},
   "outputs": [
    {
     "name": "stdout",
     "output_type": "stream",
     "text": [
      "Collecting xlrd\n",
      "  Using cached https://files.pythonhosted.org/packages/07/e6/e95c4eec6221bfd8528bcc4ea252a850bffcc4be88ebc367e23a1a84b0bb/xlrd-1.1.0-py2.py3-none-any.whl\n",
      "Installing collected packages: xlrd\n",
      "Successfully installed xlrd-1.1.0\n"
     ]
    }
   ],
   "source": [
    "!pip install xlrd"
   ]
  },
  {
   "cell_type": "code",
   "execution_count": 13,
   "metadata": {},
   "outputs": [
    {
     "name": "stdout",
     "output_type": "stream",
     "text": [
      "Collecting XlsxWriter\n",
      "  Downloading https://files.pythonhosted.org/packages/52/c6/56228f8bece3e6d707c7ba3ffde839a8989ccbc07ca3c2021d1b8243ee2c/XlsxWriter-1.0.4-py2.py3-none-any.whl (141kB)\n",
      "\u001b[K    100% |████████████████████████████████| 143kB 1.5MB/s eta 0:00:01\n",
      "\u001b[?25hInstalling collected packages: XlsxWriter\n",
      "Successfully installed XlsxWriter-1.0.4\n"
     ]
    }
   ],
   "source": [
    "!pip install XlsxWriter"
   ]
  },
  {
   "cell_type": "code",
   "execution_count": 6,
   "metadata": {},
   "outputs": [],
   "source": [
    "red_list_df = pd.read_excel(\"red2.xlsx\")"
   ]
  },
  {
   "cell_type": "code",
   "execution_count": 11,
   "metadata": {},
   "outputs": [],
   "source": [
    "red_list_df['Wikidata ID'].fillna('---', inplace=True)"
   ]
  },
  {
   "cell_type": "code",
   "execution_count": 12,
   "metadata": {},
   "outputs": [
    {
     "data": {
      "text/html": [
       "<div>\n",
       "<style scoped>\n",
       "    .dataframe tbody tr th:only-of-type {\n",
       "        vertical-align: middle;\n",
       "    }\n",
       "\n",
       "    .dataframe tbody tr th {\n",
       "        vertical-align: top;\n",
       "    }\n",
       "\n",
       "    .dataframe thead th {\n",
       "        text-align: right;\n",
       "    }\n",
       "</style>\n",
       "<table border=\"1\" class=\"dataframe\">\n",
       "  <thead>\n",
       "    <tr style=\"text-align: right;\">\n",
       "      <th></th>\n",
       "      <th>Number</th>\n",
       "      <th>Nombre</th>\n",
       "      <th>Artículo en español</th>\n",
       "      <th>Wikidata ID</th>\n",
       "      <th>Latitud</th>\n",
       "      <th>Longitud</th>\n",
       "      <th>Localidad</th>\n",
       "      <th>Municipio</th>\n",
       "      <th>Provincia</th>\n",
       "      <th>Comunidad autónoma</th>\n",
       "      <th>Descripción</th>\n",
       "      <th>URL</th>\n",
       "      <th>Estatus</th>\n",
       "      <th>Columna1</th>\n",
       "      <th>Columna2</th>\n",
       "      <th>Unnamed: 15</th>\n",
       "    </tr>\n",
       "  </thead>\n",
       "  <tbody>\n",
       "    <tr>\n",
       "      <th>0</th>\n",
       "      <td>1</td>\n",
       "      <td>Acueducto de Albatana</td>\n",
       "      <td>Acueducto de Albatana</td>\n",
       "      <td>Q4782853</td>\n",
       "      <td>38.583449</td>\n",
       "      <td>-1.545564</td>\n",
       "      <td>NaN</td>\n",
       "      <td>Albatana</td>\n",
       "      <td>Albacete</td>\n",
       "      <td>Castilla-La Mancha</td>\n",
       "      <td>Acueducto del siglo XIX.</td>\n",
       "      <td>http://listarojapatrimonio.org/ficha/acueducto...</td>\n",
       "      <td>Done</td>\n",
       "      <td>NaN</td>\n",
       "      <td>NaN</td>\n",
       "      <td>NaN</td>\n",
       "    </tr>\n",
       "    <tr>\n",
       "      <th>1</th>\n",
       "      <td>2</td>\n",
       "      <td>Alcazaba de Baza</td>\n",
       "      <td>NaN</td>\n",
       "      <td>---</td>\n",
       "      <td>37.490234</td>\n",
       "      <td>-2.775614</td>\n",
       "      <td>NaN</td>\n",
       "      <td>Baza</td>\n",
       "      <td>Granada</td>\n",
       "      <td>Andalucía</td>\n",
       "      <td>Fortaleza árabe de gran extensión, con el 70-8...</td>\n",
       "      <td>http://listarojapatrimonio.org/ficha/alcazaba-...</td>\n",
       "      <td>Reviewed</td>\n",
       "      <td>NaN</td>\n",
       "      <td>NaN</td>\n",
       "      <td>NaN</td>\n",
       "    </tr>\n",
       "    <tr>\n",
       "      <th>2</th>\n",
       "      <td>3</td>\n",
       "      <td>Alcázar de Toro</td>\n",
       "      <td>NaN</td>\n",
       "      <td>Q5664259</td>\n",
       "      <td>41.527442</td>\n",
       "      <td>-5.391337</td>\n",
       "      <td>NaN</td>\n",
       "      <td>Toro</td>\n",
       "      <td>Zamora</td>\n",
       "      <td>Castilla y León</td>\n",
       "      <td>Edificación defensiva de planta cuadrada, cuya...</td>\n",
       "      <td>http://listarojapatrimonio.org/ficha/alcazar-d...</td>\n",
       "      <td>NaN</td>\n",
       "      <td>NaN</td>\n",
       "      <td>NaN</td>\n",
       "      <td>NaN</td>\n",
       "    </tr>\n",
       "    <tr>\n",
       "      <th>3</th>\n",
       "      <td>4</td>\n",
       "      <td>Alcubillas de Córdoba</td>\n",
       "      <td>NaN</td>\n",
       "      <td>---</td>\n",
       "      <td>37.891789</td>\n",
       "      <td>-4.779423</td>\n",
       "      <td>NaN</td>\n",
       "      <td>Córdoba</td>\n",
       "      <td>Córdoba</td>\n",
       "      <td>Andalucía</td>\n",
       "      <td>Depósitos de captación y distribución de aguas...</td>\n",
       "      <td>http://listarojapatrimonio.org/ficha/alcubilla...</td>\n",
       "      <td>Reviewed</td>\n",
       "      <td>NaN</td>\n",
       "      <td>NaN</td>\n",
       "      <td>NaN</td>\n",
       "    </tr>\n",
       "    <tr>\n",
       "      <th>4</th>\n",
       "      <td>5</td>\n",
       "      <td>Aljibe de la Casa de las Veletas</td>\n",
       "      <td>NaN</td>\n",
       "      <td>---</td>\n",
       "      <td>39.472755</td>\n",
       "      <td>-6.370343</td>\n",
       "      <td>NaN</td>\n",
       "      <td>Cáceres</td>\n",
       "      <td>Cáceres</td>\n",
       "      <td>Extremadura</td>\n",
       "      <td>Aljibe del siglo XIII de origen árabe</td>\n",
       "      <td>http://listarojapatrimonio.org/ficha/aljibe-hi...</td>\n",
       "      <td>Reviewed</td>\n",
       "      <td>NaN</td>\n",
       "      <td>File:Palacio de las Veletas, aljibe, Cáceres.JPG</td>\n",
       "      <td>NaN</td>\n",
       "    </tr>\n",
       "  </tbody>\n",
       "</table>\n",
       "</div>"
      ],
      "text/plain": [
       "   Number                            Nombre    Artículo en español  \\\n",
       "0       1             Acueducto de Albatana  Acueducto de Albatana   \n",
       "1       2                  Alcazaba de Baza                    NaN   \n",
       "2       3                   Alcázar de Toro                    NaN   \n",
       "3       4             Alcubillas de Córdoba                    NaN   \n",
       "4       5  Aljibe de la Casa de las Veletas                    NaN   \n",
       "\n",
       "  Wikidata ID    Latitud   Longitud Localidad Municipio Provincia   \\\n",
       "0    Q4782853  38.583449  -1.545564       NaN  Albatana   Albacete   \n",
       "1         ---  37.490234  -2.775614       NaN      Baza    Granada   \n",
       "2    Q5664259  41.527442  -5.391337       NaN      Toro     Zamora   \n",
       "3         ---  37.891789  -4.779423       NaN   Córdoba    Córdoba   \n",
       "4         ---  39.472755  -6.370343       NaN   Cáceres    Cáceres   \n",
       "\n",
       "   Comunidad autónoma                                        Descripción  \\\n",
       "0  Castilla-La Mancha                           Acueducto del siglo XIX.   \n",
       "1           Andalucía  Fortaleza árabe de gran extensión, con el 70-8...   \n",
       "2     Castilla y León  Edificación defensiva de planta cuadrada, cuya...   \n",
       "3           Andalucía  Depósitos de captación y distribución de aguas...   \n",
       "4         Extremadura              Aljibe del siglo XIII de origen árabe   \n",
       "\n",
       "                                                 URL   Estatus Columna1  \\\n",
       "0  http://listarojapatrimonio.org/ficha/acueducto...      Done      NaN   \n",
       "1  http://listarojapatrimonio.org/ficha/alcazaba-...  Reviewed      NaN   \n",
       "2  http://listarojapatrimonio.org/ficha/alcazar-d...       NaN      NaN   \n",
       "3  http://listarojapatrimonio.org/ficha/alcubilla...  Reviewed      NaN   \n",
       "4  http://listarojapatrimonio.org/ficha/aljibe-hi...  Reviewed      NaN   \n",
       "\n",
       "                                           Columna2 Unnamed: 15  \n",
       "0                                               NaN         NaN  \n",
       "1                                               NaN         NaN  \n",
       "2                                               NaN         NaN  \n",
       "3                                               NaN         NaN  \n",
       "4  File:Palacio de las Veletas, aljibe, Cáceres.JPG         NaN  "
      ]
     },
     "execution_count": 12,
     "metadata": {},
     "output_type": "execute_result"
    }
   ],
   "source": [
    "red_list_df.head()"
   ]
  },
  {
   "cell_type": "code",
   "execution_count": null,
   "metadata": {},
   "outputs": [],
   "source": []
  }
 ],
 "metadata": {
  "kernelspec": {
   "display_name": "Python 3",
   "language": "python",
   "name": "python3"
  },
  "language_info": {
   "codemirror_mode": {
    "name": "ipython",
    "version": 3
   },
   "file_extension": ".py",
   "mimetype": "text/x-python",
   "name": "python",
   "nbconvert_exporter": "python",
   "pygments_lexer": "ipython3",
   "version": "3.6.3"
  }
 },
 "nbformat": 4,
 "nbformat_minor": 2
}
